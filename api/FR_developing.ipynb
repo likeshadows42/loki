{
 "cells": [
  {
   "cell_type": "markdown",
   "id": "b10f256e",
   "metadata": {},
   "source": [
    "### Imports"
   ]
  },
  {
   "cell_type": "code",
   "execution_count": 4,
   "id": "27cda1e7-bf57-45b2-8bd6-2b566d875171",
   "metadata": {},
   "outputs": [],
   "source": [
    "import os\n",
    "import faiss\n",
    "import shelve\n",
    "\n",
    "from tqdm                               import tqdm\n",
    "from deepface.detectors.FaceDetector    import build_model as build_detector\n",
    "from deepface.DeepFace                  import build_model as build_verifier\n",
    "\n",
    "# from .api_classes\n",
    "from utility_functions                 import create_dir, get_image_paths\n",
    "from api_functions                     import API_DIR, DST_ROOT_DIR, RAW_DIR,\\\n",
    "                                              GALLERY_DIR, TARGETS_DIR, RDB_DIR\n",
    "from fr_functions                      import *\n",
    "\n",
    "import os\n",
    "import numpy              as np\n",
    "import pandas             as pd\n",
    "import matplotlib.pyplot  as plt\n",
    "import matplotlib.image   as mpimg\n",
    "import matplotlib.patches as patches\n",
    "\n",
    "from tqdm                    import tqdm\n",
    "from deepface                import DeepFace\n",
    "from deepface.basemodels     import VGGFace, OpenFace, Facenet, Facenet512,  \\\n",
    "                                    FbDeepFace, DeepID, DlibWrapper, ArcFace,\\\n",
    "                                    Boosting\n",
    "\n",
    "from deepface.extendedmodels import Age, Gender, Race, Emotion\n",
    "from deepface.commons        import functions, realtime, distance as dst\n",
    "from deepface.detectors      import FaceDetector"
   ]
  },
  {
   "cell_type": "code",
   "execution_count": 5,
   "id": "786ba41a-a443-45fd-9969-e3d0caaaca2d",
   "metadata": {},
   "outputs": [
    {
     "name": "stdout",
     "output_type": "stream",
     "text": [
      "API_DIR:         /home/rpessoa/projects/loki/api\n",
      "DST_ROOT_DIR:    /home/rpessoa/projects/loki/api/data\n",
      "RAW_DIR:         /home/rpessoa/projects/loki/api/data/raw\n",
      "GALLERY_DIR:     /home/rpessoa/projects/loki/api/data/gallery\n",
      "TARGETS_DIR:     /home/rpessoa/projects/loki/api/data/targets\n",
      "RDB_DIR:         /home/rpessoa/projects/loki/api/data/database \n",
      "\n",
      "Creating /home/rpessoa/projects/loki/api/data directory: directory exists. Continuing...\n",
      "Creating /home/rpessoa/projects/loki/api/data/raw directory: directory exists. Continuing...\n",
      "Creating /home/rpessoa/projects/loki/api/data/gallery directory: directory exists. Continuing...\n",
      "Creating /home/rpessoa/projects/loki/api/data/targets directory: directory exists. Continuing...\n",
      "Creating /home/rpessoa/projects/loki/api/data/database directory: directory exists. Continuing...\n"
     ]
    }
   ],
   "source": [
    "# All detectors and verifiers\n",
    "DETECTOR_NAMES = ('opencv', 'ssd', 'dlib', 'mtcnn', 'retinaface')\n",
    "VERIFIER_NAMES = ('VGG-Face', 'OpenFace', 'Facenet', 'Facenet512', 'DeepFace', 'DeepID', 'Dlib', 'ArcFace', 'Emotion', 'Age', 'Gender', 'Race')\n",
    "\n",
    "# Printing path variables\n",
    "print('API_DIR:'.ljust(16), API_DIR)\n",
    "print('DST_ROOT_DIR:'.ljust(16), DST_ROOT_DIR)\n",
    "print('RAW_DIR:'.ljust(16), RAW_DIR)\n",
    "print('GALLERY_DIR:'.ljust(16), GALLERY_DIR)\n",
    "print('TARGETS_DIR:'.ljust(16), TARGETS_DIR)\n",
    "print('RDB_DIR:'.ljust(16), RDB_DIR, '\\n')\n",
    "\n",
    "# Execute \"on api / app startup\"\n",
    "# Creates all the required directories\n",
    "for directory in [DST_ROOT_DIR, RAW_DIR, GALLERY_DIR, TARGETS_DIR, RDB_DIR]:\n",
    "    print(f'Creating {directory} directory: ', end='')\n",
    "    \n",
    "    if create_dir(directory):\n",
    "        print('directory exists. Continuing...')\n",
    "    else:\n",
    "        print('success.')\n"
   ]
  },
  {
   "cell_type": "code",
   "execution_count": 9,
   "id": "e393e3b1-ccb6-4df7-8eaa-efc1a09f0306",
   "metadata": {},
   "outputs": [
    {
     "ename": "TypeError",
     "evalue": "batch_build_verifiers() got an unexpected keyword argument 'verbose'",
     "output_type": "error",
     "traceback": [
      "\u001b[0;31m---------------------------------------------------------------------------\u001b[0m",
      "\u001b[0;31mTypeError\u001b[0m                                 Traceback (most recent call last)",
      "\u001b[1;32m/home/rpessoa/projects/loki/api/FR_developing.ipynb Cell 4'\u001b[0m in \u001b[0;36m<module>\u001b[0;34m\u001b[0m\n\u001b[1;32m      <a href='vscode-notebook-cell://wsl%2Bubuntu-20.04/home/rpessoa/projects/loki/api/FR_developing.ipynb#ch0000004vscode-remote?line=0'>1</a>\u001b[0m \u001b[39m# Builds detectors\u001b[39;00m\n\u001b[1;32m      <a href='vscode-notebook-cell://wsl%2Bubuntu-20.04/home/rpessoa/projects/loki/api/FR_developing.ipynb#ch0000004vscode-remote?line=1'>2</a>\u001b[0m \u001b[39m# all_detectors = batch_build_detectors(DETECTOR_NAMES, verbose=False)\u001b[39;00m\n\u001b[1;32m      <a href='vscode-notebook-cell://wsl%2Bubuntu-20.04/home/rpessoa/projects/loki/api/FR_developing.ipynb#ch0000004vscode-remote?line=2'>3</a>\u001b[0m \u001b[39m# print('=' * 80, all_detectors, sep='\\n')\u001b[39;00m\n\u001b[1;32m      <a href='vscode-notebook-cell://wsl%2Bubuntu-20.04/home/rpessoa/projects/loki/api/FR_developing.ipynb#ch0000004vscode-remote?line=3'>4</a>\u001b[0m \n\u001b[1;32m      <a href='vscode-notebook-cell://wsl%2Bubuntu-20.04/home/rpessoa/projects/loki/api/FR_developing.ipynb#ch0000004vscode-remote?line=4'>5</a>\u001b[0m \u001b[39m# Builds verifiers\u001b[39;00m\n\u001b[0;32m----> <a href='vscode-notebook-cell://wsl%2Bubuntu-20.04/home/rpessoa/projects/loki/api/FR_developing.ipynb#ch0000004vscode-remote?line=5'>6</a>\u001b[0m all_verifiers \u001b[39m=\u001b[39m batch_build_verifiers(VERIFIER_NAMES, verbose\u001b[39m=\u001b[39;49m\u001b[39mFalse\u001b[39;49;00m,\n\u001b[1;32m      <a href='vscode-notebook-cell://wsl%2Bubuntu-20.04/home/rpessoa/projects/loki/api/FR_developing.ipynb#ch0000004vscode-remote?line=6'>7</a>\u001b[0m                                         show_prog_bar\u001b[39m=\u001b[39;49m\u001b[39mTrue\u001b[39;49;00m)\n\u001b[1;32m      <a href='vscode-notebook-cell://wsl%2Bubuntu-20.04/home/rpessoa/projects/loki/api/FR_developing.ipynb#ch0000004vscode-remote?line=7'>8</a>\u001b[0m \u001b[39m# print('=' * 80, all_verifiers, sep='\\n')\u001b[39;00m\n\u001b[1;32m      <a href='vscode-notebook-cell://wsl%2Bubuntu-20.04/home/rpessoa/projects/loki/api/FR_developing.ipynb#ch0000004vscode-remote?line=8'>9</a>\u001b[0m \n\u001b[1;32m     <a href='vscode-notebook-cell://wsl%2Bubuntu-20.04/home/rpessoa/projects/loki/api/FR_developing.ipynb#ch0000004vscode-remote?line=9'>10</a>\u001b[0m \u001b[39m# Save verifiers\u001b[39;00m\n\u001b[1;32m     <a href='vscode-notebook-cell://wsl%2Bubuntu-20.04/home/rpessoa/projects/loki/api/FR_developing.ipynb#ch0000004vscode-remote?line=10'>11</a>\u001b[0m save_face_verifiers(all_verifiers, API_DIR)\n",
      "\u001b[0;31mTypeError\u001b[0m: batch_build_verifiers() got an unexpected keyword argument 'verbose'"
     ]
    }
   ],
   "source": [
    "# Builds detectors\n",
    "# all_detectors = batch_build_detectors(DETECTOR_NAMES, verbose=False)\n",
    "# print('=' * 80, all_detectors, sep='\\n')\n",
    "\n",
    "# Builds verifiers\n",
    "all_verifiers = batch_build_verifiers(VERIFIER_NAMES, show_prog_bar=True)\n",
    "# print('=' * 80, all_verifiers, sep='\\n')\n",
    "\n",
    "# Save verifiers\n",
    "save_face_verifiers(all_verifiers, API_DIR)"
   ]
  },
  {
   "cell_type": "code",
   "execution_count": 7,
   "id": "54499881-8a5e-4a4c-a178-6ed378b06dd2",
   "metadata": {},
   "outputs": [
    {
     "ename": "FileNotFoundError",
     "evalue": "[Errno 2] No such file or directory: '/home/rpessoa/projects/loki/api/saved_models/verifiers'",
     "output_type": "error",
     "traceback": [
      "\u001b[0;31m---------------------------------------------------------------------------\u001b[0m",
      "\u001b[0;31mFileNotFoundError\u001b[0m                         Traceback (most recent call last)",
      "\u001b[1;32m/home/rpessoa/projects/loki/api/FR_developing.ipynb Cell 5'\u001b[0m in \u001b[0;36m<module>\u001b[0;34m\u001b[0m\n\u001b[0;32m----> <a href='vscode-notebook-cell://wsl%2Bubuntu-20.04/home/rpessoa/projects/loki/api/FR_developing.ipynb#ch0000005vscode-remote?line=0'>1</a>\u001b[0m models \u001b[39m=\u001b[39m load_face_verifier([\u001b[39m'\u001b[39;49m\u001b[39mall\u001b[39;49m\u001b[39m'\u001b[39;49m], save_dir\u001b[39m=\u001b[39;49m\u001b[39m'\u001b[39;49m\u001b[39m'\u001b[39;49m, show_prog_bar\u001b[39m=\u001b[39;49m\u001b[39mFalse\u001b[39;49;00m, verbose\u001b[39m=\u001b[39;49m\u001b[39mTrue\u001b[39;49;00m)\n\u001b[1;32m      <a href='vscode-notebook-cell://wsl%2Bubuntu-20.04/home/rpessoa/projects/loki/api/FR_developing.ipynb#ch0000005vscode-remote?line=1'>2</a>\u001b[0m \u001b[39mprint\u001b[39m(\u001b[39m'\u001b[39m\u001b[39m\\n\u001b[39;00m\u001b[39m'\u001b[39m, models)\n",
      "File \u001b[0;32m~/projects/loki/api/fr_functions.py:251\u001b[0m, in \u001b[0;36mload_face_verifier\u001b[0;34m(verifier_names, save_dir, show_prog_bar, verbose)\u001b[0m\n\u001b[1;32m    <a href='file:///~/projects/loki/api/fr_functions.py?line=247'>248</a>\u001b[0m models \u001b[39m=\u001b[39m {}\n\u001b[1;32m    <a href='file:///~/projects/loki/api/fr_functions.py?line=248'>249</a>\u001b[0m \u001b[39mfor\u001b[39;00m index, verifier_name \u001b[39min\u001b[39;00m \u001b[39mzip\u001b[39m(pbar, verifier_names):       \n\u001b[1;32m    <a href='file:///~/projects/loki/api/fr_functions.py?line=249'>250</a>\u001b[0m     \u001b[39m# Checks if the face verifier model exists\u001b[39;00m\n\u001b[0;32m--> <a href='file:///~/projects/loki/api/fr_functions.py?line=250'>251</a>\u001b[0m     \u001b[39mif\u001b[39;00m saved_verifier_exists(verifier_name):\n\u001b[1;32m    <a href='file:///~/projects/loki/api/fr_functions.py?line=251'>252</a>\u001b[0m         \u001b[39m# Loads the model\u001b[39;00m\n\u001b[1;32m    <a href='file:///~/projects/loki/api/fr_functions.py?line=252'>253</a>\u001b[0m         file_fp \u001b[39m=\u001b[39m os\u001b[39m.\u001b[39mpath\u001b[39m.\u001b[39mjoin(save_dir, verifier_name)\n\u001b[1;32m    <a href='file:///~/projects/loki/api/fr_functions.py?line=253'>254</a>\u001b[0m         \u001b[39mwith\u001b[39;00m shelve\u001b[39m.\u001b[39mopen(file_fp) \u001b[39mas\u001b[39;00m model:\n",
      "File \u001b[0;32m~/projects/loki/api/fr_functions.py:132\u001b[0m, in \u001b[0;36msaved_verifier_exists\u001b[0;34m(verifier_name, save_dir)\u001b[0m\n\u001b[1;32m    <a href='file:///~/projects/loki/api/fr_functions.py?line=128'>129</a>\u001b[0m     save_dir \u001b[39m=\u001b[39m os\u001b[39m.\u001b[39mpath\u001b[39m.\u001b[39mjoin(api_root_dir, \u001b[39m'\u001b[39m\u001b[39msaved_models\u001b[39m\u001b[39m'\u001b[39m, \u001b[39m'\u001b[39m\u001b[39mverifiers\u001b[39m\u001b[39m'\u001b[39m)\n\u001b[1;32m    <a href='file:///~/projects/loki/api/fr_functions.py?line=130'>131</a>\u001b[0m is_in \u001b[39m=\u001b[39m \u001b[39mFalse\u001b[39;00m\n\u001b[0;32m--> <a href='file:///~/projects/loki/api/fr_functions.py?line=131'>132</a>\u001b[0m \u001b[39mfor\u001b[39;00m file_name \u001b[39min\u001b[39;00m os\u001b[39m.\u001b[39;49mlistdir(save_dir):\n\u001b[1;32m    <a href='file:///~/projects/loki/api/fr_functions.py?line=132'>133</a>\u001b[0m     is_in \u001b[39m=\u001b[39m is_in \u001b[39mor\u001b[39;00m verifier_name \u001b[39min\u001b[39;00m file_name\n\u001b[1;32m    <a href='file:///~/projects/loki/api/fr_functions.py?line=134'>135</a>\u001b[0m \u001b[39mreturn\u001b[39;00m is_in\n",
      "\u001b[0;31mFileNotFoundError\u001b[0m: [Errno 2] No such file or directory: '/home/rpessoa/projects/loki/api/saved_models/verifiers'"
     ]
    }
   ],
   "source": [
    "models = load_face_verifier(['all'], save_dir='', show_prog_bar=False, verbose=True)\n",
    "print('\\n', models)"
   ]
  },
  {
   "cell_type": "code",
   "execution_count": 48,
   "id": "ed55c058-4335-4f0c-b144-803d62d38361",
   "metadata": {},
   "outputs": [],
   "source": [
    "# Database functions & classes\n",
    "\n",
    "class Representation():\n",
    "    \"\"\"\n",
    "    Class to store the model-specific embeddings for an image.\n",
    "    \n",
    "    Attributes:\n",
    "        After __init__:\n",
    "            1. unique_id  - unique identifier number that represents a face\n",
    "            2. image_name - image name\n",
    "            3. image_fp   - image full path\n",
    "            4. embeddings - model-specific vector representation of the face\n",
    "        \n",
    "    Methods:\n",
    "        1. show_info() - prints the representation information in a condensed,\n",
    "            easy-to-read form\n",
    "    \"\"\"\n",
    "    def __init__(self, unique_id, image_name='', image_fp='', name_tag='', region=[], embeddings={}):\n",
    "        self.unique_id  = unique_id\n",
    "        self.name_tag   = name_tag\n",
    "        self.image_name = image_name\n",
    "        self.image_fp   = image_fp\n",
    "        self.region     = region\n",
    "        self.embeddings = embeddings\n",
    "        \n",
    "    def show_info(self):\n",
    "        print('Unique ID'.ljust(25) + f': {self.unique_id}',\n",
    "              'Name'.ljust(25) + f': {self.name_tag}',\n",
    "              'Image name'.ljust(25) + f': {self.image_name}',\n",
    "              'Image full path'.ljust(25) + f': {self.image_fp}',\n",
    "              'Face region'.ljust(25) + f': {self.region}', sep='\\n')\n",
    "        \n",
    "        if self.embeddings: # embeddings dictionary is NOT empty\n",
    "            print('Embeddings:')\n",
    "            for key, value in self.embeddings.items():\n",
    "                print(f'  > {key}: [{value[0]}, {value[1]}, {value[2]}, ... , {value[-1]}] (len={len(value)})')\n",
    "                \n",
    "        else:\n",
    "            print('No embedding found!')\n",
    "\n",
    "# -----------------------------------------------------------------------------\n",
    "\n",
    "def some_name(img_path, db_path):\n",
    "    # Does this assume img_path is a string? (what if the user provides an image file?)\n",
    "    img_paths = get_image_paths(img_path)\n",
    "    \n",
    "    if not os.path.isdir(db_path):\n",
    "        raise ValueError('Database path does not point to')\n",
    "    \n",
    "    # For now, let's assume no representation is saved / stored.\n",
    "    # TODO: Add loading of saved representations\n",
    "    \n",
    "    # Loops through each image (for now we can assume only 1)\n",
    "    for pth in img_paths:\n",
    "        # Load the image\n",
    "        \n",
    "        \n",
    "        \n",
    "    \n",
    "\n"
   ]
  },
  {
   "cell_type": "code",
   "execution_count": 49,
   "id": "00f285a8-fcf3-49ac-80ee-a4bbd74e2ecb",
   "metadata": {},
   "outputs": [
    {
     "name": "stdout",
     "output_type": "stream",
     "text": [
      "/home/studio-lab-user/loki/api/data/raw/img5.jpg\n",
      "/home/studio-lab-user/loki/api/data/raw/img17.jpg\n",
      "/home/studio-lab-user/loki/api/data/raw/img21.jpg\n",
      "/home/studio-lab-user/loki/api/data/raw/img15.jpg\n",
      "/home/studio-lab-user/loki/api/data/raw/img18.jpg\n",
      "/home/studio-lab-user/loki/api/data/raw/img8.jpg\n",
      "/home/studio-lab-user/loki/api/data/raw/img24.jpg\n",
      "/home/studio-lab-user/loki/api/data/raw/img3.jpg\n",
      "/home/studio-lab-user/loki/api/data/raw/img23.jpg\n",
      "/home/studio-lab-user/loki/api/data/raw/img26.jpg\n",
      "/home/studio-lab-user/loki/api/data/raw/6_men_from_tech_world.jpg\n",
      "/home/studio-lab-user/loki/api/data/raw/ten_men_who_changed_the_tech_world.jpg\n",
      "/home/studio-lab-user/loki/api/data/raw/angelina_2_others.jpg\n",
      "\n",
      "/home/studio-lab-user/loki/api/data/raw/img3.jpg\n"
     ]
    }
   ],
   "source": [
    "example_path1 = os.path.join(RAW_DIR)\n",
    "example_path2 = os.path.join(RAW_DIR, 'img3.jpg')\n",
    "\n",
    "some_name(example_path1, '')\n",
    "print('')\n",
    "some_name(example_path2, '')"
   ]
  },
  {
   "cell_type": "code",
   "execution_count": 45,
   "id": "25546603-73e4-4883-9a9e-f0e9afcffa26",
   "metadata": {},
   "outputs": [
    {
     "data": {
      "text/plain": [
       "['/home/studio-lab-user/loki/api/data/raw/img3.jpg']"
      ]
     },
     "execution_count": 45,
     "metadata": {},
     "output_type": "execute_result"
    }
   ],
   "source": [
    "get_image_paths(example_path2)"
   ]
  },
  {
   "cell_type": "code",
   "execution_count": null,
   "id": "4dbf3e51-62fb-4197-842f-85baa3c2a33b",
   "metadata": {},
   "outputs": [],
   "source": []
  }
 ],
 "metadata": {
  "interpreter": {
   "hash": "5b8b4124e34c7aef84f71e2d1adc63dc40a11e5c939516b2a86977f9bc5888db"
  },
  "kernelspec": {
   "display_name": "deepface:Python",
   "language": "python",
   "name": "python3"
  },
  "language_info": {
   "codemirror_mode": {
    "name": "ipython",
    "version": 3
   },
   "file_extension": ".py",
   "mimetype": "text/x-python",
   "name": "python",
   "nbconvert_exporter": "python",
   "pygments_lexer": "ipython3",
   "version": "3.9.7"
  }
 },
 "nbformat": 4,
 "nbformat_minor": 5
}
